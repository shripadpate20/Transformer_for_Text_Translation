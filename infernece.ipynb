{
 "cells": [
  {
   "cell_type": "code",
   "execution_count": 5,
   "metadata": {},
   "outputs": [
    {
     "name": "stdout",
     "output_type": "stream",
     "text": [
      "English: Hello, how are you?\n",
      "Marathi: , तू काय आहेस ?\n"
     ]
    }
   ],
   "source": [
    "import torch\n",
    "from pathlib import Path\n",
    "from tokenizers import Tokenizer\n",
    "from dataset import greedy_decode\n",
    "from transformer import build_transformer\n",
    "\n",
    "def translate(sentence: str, model, tokenizer_src, tokenizer_tgt, max_len, device):\n",
    "    model.eval()\n",
    "    \n",
    "    # Tokenize the input sentence\n",
    "    encoder_input = tokenizer_src.encode(sentence).ids\n",
    "    encoder_input = torch.tensor(encoder_input).unsqueeze(0).to(device)\n",
    "    \n",
    "    # Create the encoder mask\n",
    "    encoder_mask = (encoder_input != tokenizer_src.token_to_id('[PAD]')).unsqueeze(0).unsqueeze(0).int().to(device)\n",
    "    \n",
    "    # Perform the translation\n",
    "    translation = greedy_decode(model, encoder_input, encoder_mask, tokenizer_src, tokenizer_tgt, max_len, device)\n",
    "    \n",
    "    # Decode the translation\n",
    "    translated_sentence = tokenizer_tgt.decode(translation.detach().cpu().numpy())\n",
    "    \n",
    "    return translated_sentence\n",
    "\n",
    "def main():\n",
    "    # Set up device\n",
    "    device = torch.device('cuda' if torch.cuda.is_available() else 'cpu')\n",
    "    \n",
    "    # Load the tokenizers\n",
    "    tokenizer_src = Tokenizer.from_file(\"tokenizer_en.json\")\n",
    "    tokenizer_tgt = Tokenizer.from_file(\"tokenizer_mr.json\")\n",
    "\n",
    "    # Set up model configuration\n",
    "    config = {\n",
    "        \"seq_len\": 350,\n",
    "        \"d_model\": 512,\n",
    "        \"lang_src\": \"en\",\n",
    "        \"lang_tgt\": \"mr\",\n",
    "    }\n",
    "\n",
    "    # Build the model\n",
    "    model = build_transformer(tokenizer_src.get_vocab_size(), tokenizer_tgt.get_vocab_size(), \n",
    "                              config[\"seq_len\"], config[\"seq_len\"], d_model=config[\"d_model\"]).to(device)\n",
    "\n",
    "    # Load the model weights\n",
    "    model_weights = \"tmodel_49.pt\"\n",
    "    state = torch.load(model_weights, map_location=device)\n",
    "    model.load_state_dict(state['model_state_dict'])\n",
    "\n",
    "    # Example usage\n",
    "    english_sentence = \"Hello, how are you?\"\n",
    "    marathi_translation = translate(english_sentence, model, tokenizer_src, tokenizer_tgt, config[\"seq_len\"], device)\n",
    "    \n",
    "    print(f\"English: {english_sentence}\")\n",
    "    print(f\"Marathi: {marathi_translation}\")\n",
    "\n",
    "if __name__ == \"__main__\":\n",
    "    main()"
   ]
  },
  {
   "cell_type": "code",
   "execution_count": null,
   "metadata": {},
   "outputs": [],
   "source": []
  }
 ],
 "metadata": {
  "kernelspec": {
   "display_name": "myenv",
   "language": "python",
   "name": "python3"
  },
  "language_info": {
   "codemirror_mode": {
    "name": "ipython",
    "version": 3
   },
   "file_extension": ".py",
   "mimetype": "text/x-python",
   "name": "python",
   "nbconvert_exporter": "python",
   "pygments_lexer": "ipython3",
   "version": "3.11.7"
  }
 },
 "nbformat": 4,
 "nbformat_minor": 2
}
